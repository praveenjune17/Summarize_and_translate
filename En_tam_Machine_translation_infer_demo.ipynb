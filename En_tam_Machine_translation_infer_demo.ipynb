{
  "nbformat": 4,
  "nbformat_minor": 0,
  "metadata": {
    "colab": {
      "name": "En_tam_Machine_translation_infer_demo.ipynb",
      "provenance": [],
      "collapsed_sections": [],
      "machine_shape": "hm",
      "include_colab_link": true
    },
    "kernelspec": {
      "name": "python3",
      "display_name": "Python 3"
    }
  },
  "cells": [
    {
      "cell_type": "markdown",
      "metadata": {
        "id": "view-in-github",
        "colab_type": "text"
      },
      "source": [
        "<a href=\"https://colab.research.google.com/github/praveenjune17/Summarize_or_translate_using_transformers/blob/master/En_tam_Machine_translation_infer_demo.ipynb\" target=\"_parent\"><img src=\"https://colab.research.google.com/assets/colab-badge.svg\" alt=\"Open In Colab\"/></a>"
      ]
    },
    {
      "cell_type": "code",
      "metadata": {
        "id": "NfRt4RL3yZna",
        "colab_type": "code",
        "colab": {}
      },
      "source": [
        "!pip install bunch\n",
        "!pip install profanity_check\n",
        "!pip install transformers\n",
        "!pip install tensor2tensor\n",
        "try:\n",
        "  import shutil\n",
        "  shutil.rmtree('/content/Summarize_or_translate_using_transformers')\n",
        "except:\n",
        "  pass\n",
        "!git clone https://github.com/praveenjune17/Summarize_or_translate_using_transformers"
      ],
      "execution_count": null,
      "outputs": []
    },
    {
      "cell_type": "code",
      "metadata": {
        "id": "Wj7r1Yv5gdB5",
        "colab_type": "code",
        "colab": {}
      },
      "source": [
        "from google_drive_downloader import GoogleDriveDownloader as gdd\n",
        "gdd.download_file_from_google_drive(file_id='1-319sJAS901Uq32TUU0xoE6lOEBF_OH7',\n",
        "                                      dest_path='/content/temp.zip',\n",
        "                                      unzip=True)"
      ],
      "execution_count": 2,
      "outputs": []
    },
    {
      "cell_type": "code",
      "metadata": {
        "id": "Ez4YVLYn0PXf",
        "colab_type": "code",
        "colab": {}
      },
      "source": [
        "!python /content/Summarize_or_translate_using_transformers/inference_scripts/translate.py"
      ],
      "execution_count": null,
      "outputs": []
    }
  ]
}