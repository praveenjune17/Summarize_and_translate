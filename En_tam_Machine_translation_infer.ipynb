{
  "nbformat": 4,
  "nbformat_minor": 0,
  "metadata": {
    "colab": {
      "name": "En_tam_Machine_translation_infer.ipynb",
      "provenance": [],
      "collapsed_sections": [],
      "machine_shape": "hm"
    },
    "kernelspec": {
      "name": "python3",
      "display_name": "Python 3"
    }
  },
  "cells": [
    {
      "cell_type": "code",
      "metadata": {
        "id": "NfRt4RL3yZna",
        "colab_type": "code",
        "colab": {}
      },
      "source": [
        "from google.colab import drive\n",
        "drive.mount('/content/drive')\n",
        "!pip install bunch\n",
        "!pip install profanity_check\n",
        "!pip install transformers\n",
        "!pip install tensor2tensor"
      ],
      "execution_count": null,
      "outputs": []
    },
    {
      "cell_type": "code",
      "metadata": {
        "id": "OViZ0uOpr7tR",
        "colab_type": "code",
        "colab": {}
      },
      "source": [
        "!nvidia-smi"
      ],
      "execution_count": null,
      "outputs": []
    },
    {
      "cell_type": "code",
      "metadata": {
        "id": "qC8nj7uGdaUd",
        "colab_type": "code",
        "colab": {
          "base_uri": "https://localhost:8080/",
          "height": 235
        },
        "outputId": "b2d7ce9b-6893-40e9-cdeb-1057c56d251a"
      },
      "source": [
        "import os\n",
        "if not os.path.exists('Neural-Machine-Translation-English-Tamil-model'):\n",
        "  !git clone https://github.com/praveenjune17/Neural-Machine-Translation-English-Tamil-model\n",
        "  !unzip Neural-Machine-Translation-English-Tamil-model/tfds_patch_scripts/Transformer_en_tam_2.zip"
      ],
      "execution_count": 2,
      "outputs": [
        {
          "output_type": "stream",
          "text": [
            "Cloning into 'Neural-Machine-Translation-English-Tamil-model'...\n",
            "remote: Enumerating objects: 13, done.\u001b[K\n",
            "remote: Counting objects: 100% (13/13), done.\u001b[K\n",
            "remote: Compressing objects: 100% (13/13), done.\u001b[K\n",
            "remote: Total 325 (delta 4), reused 0 (delta 0), pack-reused 312\u001b[K\n",
            "Receiving objects: 100% (325/325), 127.51 MiB | 41.32 MiB/s, done.\n",
            "Resolving deltas: 100% (156/156), done.\n",
            "Archive:  Neural-Machine-Translation-English-Tamil-model/tfds_patch_scripts/Transformer_en_tam_2.zip\n",
            "   creating: Transformer_en_tam_2/\n",
            "  inflating: Transformer_en_tam_2/en_tam_parallel_text.py  \n",
            "  inflating: Transformer_en_tam_2/en_tam_parallel_text.txt  \n",
            "  inflating: Transformer_en_tam_2/en_tam_parallel_text_test.py  \n",
            "  inflating: Transformer_en_tam_2/__init__.py  \n"
          ],
          "name": "stdout"
        }
      ]
    },
    {
      "cell_type": "code",
      "metadata": {
        "id": "xnUESTHMPSbf",
        "colab_type": "code",
        "colab": {
          "base_uri": "https://localhost:8080/",
          "height": 134
        },
        "outputId": "6505d8a0-720a-469b-c5bc-48d58dcfba1a"
      },
      "source": [
        "try:\n",
        "  import shutil\n",
        "  shutil.rmtree('/content/Summarize_or_translate_using_transformers')\n",
        "except:\n",
        "  pass\n",
        "!git clone https://github.com/praveenjune17/Summarize_or_translate_using_transformers"
      ],
      "execution_count": 18,
      "outputs": [
        {
          "output_type": "stream",
          "text": [
            "Cloning into 'Summarize_or_translate_using_transformers'...\n",
            "remote: Enumerating objects: 251, done.\u001b[K\n",
            "remote: Counting objects:   0% (1/251)\u001b[K\rremote: Counting objects:   1% (3/251)\u001b[K\rremote: Counting objects:   2% (6/251)\u001b[K\rremote: Counting objects:   3% (8/251)\u001b[K\rremote: Counting objects:   4% (11/251)\u001b[K\rremote: Counting objects:   5% (13/251)\u001b[K\rremote: Counting objects:   6% (16/251)\u001b[K\rremote: Counting objects:   7% (18/251)\u001b[K\rremote: Counting objects:   8% (21/251)\u001b[K\rremote: Counting objects:   9% (23/251)\u001b[K\rremote: Counting objects:  10% (26/251)\u001b[K\rremote: Counting objects:  11% (28/251)\u001b[K\rremote: Counting objects:  12% (31/251)\u001b[K\rremote: Counting objects:  13% (33/251)\u001b[K\rremote: Counting objects:  14% (36/251)\u001b[K\rremote: Counting objects:  15% (38/251)\u001b[K\rremote: Counting objects:  16% (41/251)\u001b[K\rremote: Counting objects:  17% (43/251)\u001b[K\rremote: Counting objects:  18% (46/251)\u001b[K\rremote: Counting objects:  19% (48/251)\u001b[K\rremote: Counting objects:  20% (51/251)\u001b[K\rremote: Counting objects:  21% (53/251)\u001b[K\rremote: Counting objects:  22% (56/251)\u001b[K\rremote: Counting objects:  23% (58/251)\u001b[K\rremote: Counting objects:  24% (61/251)\u001b[K\rremote: Counting objects:  25% (63/251)\u001b[K\rremote: Counting objects:  26% (66/251)\u001b[K\rremote: Counting objects:  27% (68/251)\u001b[K\rremote: Counting objects:  28% (71/251)\u001b[K\rremote: Counting objects:  29% (73/251)\u001b[K\rremote: Counting objects:  30% (76/251)\u001b[K\rremote: Counting objects:  31% (78/251)\u001b[K\rremote: Counting objects:  32% (81/251)\u001b[K\rremote: Counting objects:  33% (83/251)\u001b[K\rremote: Counting objects:  34% (86/251)\u001b[K\rremote: Counting objects:  35% (88/251)\u001b[K\rremote: Counting objects:  36% (91/251)\u001b[K\rremote: Counting objects:  37% (93/251)\u001b[K\rremote: Counting objects:  38% (96/251)\u001b[K\rremote: Counting objects:  39% (98/251)\u001b[K\rremote: Counting objects:  40% (101/251)\u001b[K\rremote: Counting objects:  41% (103/251)\u001b[K\rremote: Counting objects:  42% (106/251)\u001b[K\rremote: Counting objects:  43% (108/251)\u001b[K\rremote: Counting objects:  44% (111/251)\u001b[K\rremote: Counting objects:  45% (113/251)\u001b[K\rremote: Counting objects:  46% (116/251)\u001b[K\rremote: Counting objects:  47% (118/251)\u001b[K\rremote: Counting objects:  48% (121/251)\u001b[K\rremote: Counting objects:  49% (123/251)\u001b[K\rremote: Counting objects:  50% (126/251)\u001b[K\rremote: Counting objects:  51% (129/251)\u001b[K\rremote: Counting objects:  52% (131/251)\u001b[K\rremote: Counting objects:  53% (134/251)\u001b[K\rremote: Counting objects:  54% (136/251)\u001b[K\rremote: Counting objects:  55% (139/251)\u001b[K\rremote: Counting objects:  56% (141/251)\u001b[K\rremote: Counting objects:  57% (144/251)\u001b[K\rremote: Counting objects:  58% (146/251)\u001b[K\rremote: Counting objects:  59% (149/251)\u001b[K\rremote: Counting objects:  60% (151/251)\u001b[K\rremote: Counting objects:  61% (154/251)\u001b[K\rremote: Counting objects:  62% (156/251)\u001b[K\rremote: Counting objects:  63% (159/251)\u001b[K\rremote: Counting objects:  64% (161/251)\u001b[K\rremote: Counting objects:  65% (164/251)\u001b[K\rremote: Counting objects:  66% (166/251)\u001b[K\rremote: Counting objects:  67% (169/251)\u001b[K\rremote: Counting objects:  68% (171/251)\u001b[K\rremote: Counting objects:  69% (174/251)\u001b[K\rremote: Counting objects:  70% (176/251)\u001b[K\rremote: Counting objects:  71% (179/251)\u001b[K\rremote: Counting objects:  72% (181/251)\u001b[K\rremote: Counting objects:  73% (184/251)\u001b[K\rremote: Counting objects:  74% (186/251)\u001b[K\rremote: Counting objects:  75% (189/251)\u001b[K\rremote: Counting objects:  76% (191/251)\u001b[K\rremote: Counting objects:  77% (194/251)\u001b[K\rremote: Counting objects:  78% (196/251)\u001b[K\rremote: Counting objects:  79% (199/251)\u001b[K\rremote: Counting objects:  80% (201/251)\u001b[K\rremote: Counting objects:  81% (204/251)\u001b[K\rremote: Counting objects:  82% (206/251)\u001b[K\rremote: Counting objects:  83% (209/251)\u001b[K\rremote: Counting objects:  84% (211/251)\u001b[K\rremote: Counting objects:  85% (214/251)\u001b[K\rremote: Counting objects:  86% (216/251)\u001b[K\rremote: Counting objects:  87% (219/251)\u001b[K\rremote: Counting objects:  88% (221/251)\u001b[K\rremote: Counting objects:  89% (224/251)\u001b[K\rremote: Counting objects:  90% (226/251)\u001b[K\rremote: Counting objects:  91% (229/251)\u001b[K\rremote: Counting objects:  92% (231/251)\u001b[K\rremote: Counting objects:  93% (234/251)\u001b[K\rremote: Counting objects:  94% (236/251)\u001b[K\rremote: Counting objects:  95% (239/251)\u001b[K\rremote: Counting objects:  96% (241/251)\u001b[K\rremote: Counting objects:  97% (244/251)\u001b[K\rremote: Counting objects:  98% (246/251)\u001b[K\rremote: Counting objects:  99% (249/251)\u001b[K\rremote: Counting objects: 100% (251/251)\u001b[K\rremote: Counting objects: 100% (251/251), done.\u001b[K\n",
            "remote: Compressing objects:   0% (1/215)\u001b[K\rremote: Compressing objects:   1% (3/215)\u001b[K\rremote: Compressing objects:   2% (5/215)\u001b[K\rremote: Compressing objects:   3% (7/215)\u001b[K\rremote: Compressing objects:   4% (9/215)\u001b[K\rremote: Compressing objects:   5% (11/215)\u001b[K\rremote: Compressing objects:   6% (13/215)\u001b[K\rremote: Compressing objects:   7% (16/215)\u001b[K\rremote: Compressing objects:   8% (18/215)\u001b[K\rremote: Compressing objects:   9% (20/215)\u001b[K\rremote: Compressing objects:  10% (22/215)\u001b[K\rremote: Compressing objects:  11% (24/215)\u001b[K\rremote: Compressing objects:  12% (26/215)\u001b[K\rremote: Compressing objects:  13% (28/215)\u001b[K\rremote: Compressing objects:  14% (31/215)\u001b[K\rremote: Compressing objects:  15% (33/215)\u001b[K\rremote: Compressing objects:  16% (35/215)\u001b[K\rremote: Compressing objects:  17% (37/215)\u001b[K\rremote: Compressing objects:  18% (39/215)\u001b[K\rremote: Compressing objects:  19% (41/215)\u001b[K\rremote: Compressing objects:  20% (43/215)\u001b[K\rremote: Compressing objects:  21% (46/215)\u001b[K\rremote: Compressing objects:  22% (48/215)\u001b[K\rremote: Compressing objects:  23% (50/215)\u001b[K\rremote: Compressing objects:  24% (52/215)\u001b[K\rremote: Compressing objects:  25% (54/215)\u001b[K\rremote: Compressing objects:  26% (56/215)\u001b[K\rremote: Compressing objects:  27% (59/215)\u001b[K\rremote: Compressing objects:  28% (61/215)\u001b[K\rremote: Compressing objects:  29% (63/215)\u001b[K\rremote: Compressing objects:  30% (65/215)\u001b[K\rremote: Compressing objects:  31% (67/215)\u001b[K\rremote: Compressing objects:  32% (69/215)\u001b[K\rremote: Compressing objects:  33% (71/215)\u001b[K\rremote: Compressing objects:  34% (74/215)\u001b[K\rremote: Compressing objects:  35% (76/215)\u001b[K\rremote: Compressing objects:  36% (78/215)\u001b[K\rremote: Compressing objects:  37% (80/215)\u001b[K\rremote: Compressing objects:  38% (82/215)\u001b[K\rremote: Compressing objects:  39% (84/215)\u001b[K\rremote: Compressing objects:  40% (86/215)\u001b[K\rremote: Compressing objects:  41% (89/215)\u001b[K\rremote: Compressing objects:  42% (91/215)\u001b[K\rremote: Compressing objects:  43% (93/215)\u001b[K\rremote: Compressing objects:  44% (95/215)\u001b[K\rremote: Compressing objects:  45% (97/215)\u001b[K\rremote: Compressing objects:  46% (99/215)\u001b[K\rremote: Compressing objects:  47% (102/215)\u001b[K\rremote: Compressing objects:  48% (104/215)\u001b[K\rremote: Compressing objects:  49% (106/215)\u001b[K\rremote: Compressing objects:  50% (108/215)\u001b[K\rremote: Compressing objects:  51% (110/215)\u001b[K\rremote: Compressing objects:  52% (112/215)\u001b[K\rremote: Compressing objects:  53% (114/215)\u001b[K\rremote: Compressing objects:  54% (117/215)\u001b[K\rremote: Compressing objects:  55% (119/215)\u001b[K\rremote: Compressing objects:  56% (121/215)\u001b[K\rremote: Compressing objects:  57% (123/215)\u001b[K\rremote: Compressing objects:  58% (125/215)\u001b[K\rremote: Compressing objects:  59% (127/215)\u001b[K\rremote: Compressing objects:  60% (129/215)\u001b[K\rremote: Compressing objects:  61% (132/215)\u001b[K\rremote: Compressing objects:  62% (134/215)\u001b[K\rremote: Compressing objects:  63% (136/215)\u001b[K\rremote: Compressing objects:  64% (138/215)\u001b[K\rremote: Compressing objects:  65% (140/215)\u001b[K\rremote: Compressing objects:  66% (142/215)\u001b[K\rremote: Compressing objects:  67% (145/215)\u001b[K\rremote: Compressing objects:  68% (147/215)\u001b[K\rremote: Compressing objects:  69% (149/215)\u001b[K\rremote: Compressing objects:  70% (151/215)\u001b[K\rremote: Compressing objects:  71% (153/215)\u001b[K\rremote: Compressing objects:  72% (155/215)\u001b[K\rremote: Compressing objects:  73% (157/215)\u001b[K\rremote: Compressing objects:  74% (160/215)\u001b[K\rremote: Compressing objects:  75% (162/215)\u001b[K\rremote: Compressing objects:  76% (164/215)\u001b[K\rremote: Compressing objects:  77% (166/215)\u001b[K\rremote: Compressing objects:  78% (168/215)\u001b[K\rremote: Compressing objects:  79% (170/215)\u001b[K\rremote: Compressing objects:  80% (172/215)\u001b[K\rremote: Compressing objects:  81% (175/215)\u001b[K\rremote: Compressing objects:  82% (177/215)\u001b[K\rremote: Compressing objects:  83% (179/215)\u001b[K\rremote: Compressing objects:  84% (181/215)\u001b[K\rremote: Compressing objects:  85% (183/215)\u001b[K\rremote: Compressing objects:  86% (185/215)\u001b[K\rremote: Compressing objects:  87% (188/215)\u001b[K\rremote: Compressing objects:  88% (190/215)\u001b[K\rremote: Compressing objects:  89% (192/215)\u001b[K\rremote: Compressing objects:  90% (194/215)\u001b[K\rremote: Compressing objects:  91% (196/215)\u001b[K\rremote: Compressing objects:  92% (198/215)\u001b[K\rremote: Compressing objects:  93% (200/215)\u001b[K\rremote: Compressing objects:  94% (203/215)\u001b[K\rremote: Compressing objects:  95% (205/215)\u001b[K\rremote: Compressing objects:  96% (207/215)\u001b[K\rremote: Compressing objects:  97% (209/215)\u001b[K\rremote: Compressing objects:  98% (211/215)\u001b[K\rremote: Compressing objects:  99% (213/215)\u001b[K\rremote: Compressing objects: 100% (215/215)\u001b[K\rremote: Compressing objects: 100% (215/215), done.\u001b[K\n",
            "Receiving objects:   0% (1/1748)   \rReceiving objects:   1% (18/1748)   \rReceiving objects:   2% (35/1748)   \rReceiving objects:   3% (53/1748)   \rReceiving objects:   4% (70/1748)   \rReceiving objects:   5% (88/1748)   \rReceiving objects:   6% (105/1748)   \rReceiving objects:   7% (123/1748)   \rReceiving objects:   8% (140/1748)   \rReceiving objects:   9% (158/1748)   \rReceiving objects:  10% (175/1748)   \rReceiving objects:  11% (193/1748)   \rReceiving objects:  12% (210/1748)   \rReceiving objects:  13% (228/1748)   \rReceiving objects:  14% (245/1748)   \rReceiving objects:  15% (263/1748)   \rReceiving objects:  16% (280/1748)   \rReceiving objects:  17% (298/1748)   \rReceiving objects:  18% (315/1748)   \rReceiving objects:  19% (333/1748)   \rReceiving objects:  20% (350/1748)   \rReceiving objects:  21% (368/1748)   \rReceiving objects:  22% (385/1748)   \rReceiving objects:  23% (403/1748)   \rReceiving objects:  24% (420/1748)   \rReceiving objects:  25% (437/1748)   \rReceiving objects:  26% (455/1748)   \rReceiving objects:  27% (472/1748)   \rReceiving objects:  28% (490/1748)   \rReceiving objects:  29% (507/1748)   \rReceiving objects:  30% (525/1748)   \rReceiving objects:  31% (542/1748)   \rReceiving objects:  32% (560/1748)   \rReceiving objects:  33% (577/1748)   \rReceiving objects:  34% (595/1748)   \rReceiving objects:  35% (612/1748)   \rReceiving objects:  36% (630/1748)   \rReceiving objects:  37% (647/1748)   \rReceiving objects:  38% (665/1748)   \rReceiving objects:  39% (682/1748)   \rReceiving objects:  40% (700/1748)   \rReceiving objects:  41% (717/1748)   \rReceiving objects:  42% (735/1748)   \rReceiving objects:  43% (752/1748)   \rReceiving objects:  44% (770/1748)   \rReceiving objects:  45% (787/1748)   \rReceiving objects:  46% (805/1748)   \rReceiving objects:  47% (822/1748)   \rReceiving objects:  48% (840/1748)   \rReceiving objects:  49% (857/1748)   \rReceiving objects:  50% (874/1748)   \rReceiving objects:  51% (892/1748)   \rReceiving objects:  52% (909/1748)   \rReceiving objects:  53% (927/1748)   \rReceiving objects:  54% (944/1748)   \rReceiving objects:  55% (962/1748)   \rReceiving objects:  56% (979/1748)   \rReceiving objects:  57% (997/1748)   \rReceiving objects:  58% (1014/1748)   \rReceiving objects:  59% (1032/1748)   \rReceiving objects:  60% (1049/1748)   \rReceiving objects:  61% (1067/1748)   \rReceiving objects:  62% (1084/1748)   \rReceiving objects:  63% (1102/1748)   \rReceiving objects:  64% (1119/1748)   \rReceiving objects:  65% (1137/1748)   \rReceiving objects:  66% (1154/1748)   \rReceiving objects:  67% (1172/1748)   \rReceiving objects:  68% (1189/1748)   \rReceiving objects:  69% (1207/1748)   \rReceiving objects:  70% (1224/1748)   \rReceiving objects:  71% (1242/1748)   \rReceiving objects:  72% (1259/1748)   \rReceiving objects:  73% (1277/1748)   \rReceiving objects:  74% (1294/1748)   \rReceiving objects:  75% (1311/1748)   \rReceiving objects:  76% (1329/1748)   \rReceiving objects:  77% (1346/1748)   \rReceiving objects:  78% (1364/1748)   \rReceiving objects:  79% (1381/1748)   \rReceiving objects:  80% (1399/1748)   \rReceiving objects:  81% (1416/1748)   \rReceiving objects:  82% (1434/1748)   \rReceiving objects:  83% (1451/1748)   \rReceiving objects:  84% (1469/1748)   \rReceiving objects:  85% (1486/1748)   \rReceiving objects:  86% (1504/1748)   \rReceiving objects:  87% (1521/1748)   \rReceiving objects:  88% (1539/1748)   \rReceiving objects:  89% (1556/1748)   \rReceiving objects:  90% (1574/1748)   \rremote: Total 1748 (delta 167), reused 66 (delta 36), pack-reused 1497\u001b[K\n",
            "Receiving objects:  91% (1591/1748)   \rReceiving objects:  92% (1609/1748)   \rReceiving objects:  93% (1626/1748)   \rReceiving objects:  94% (1644/1748)   \rReceiving objects:  95% (1661/1748)   \rReceiving objects:  96% (1679/1748)   \rReceiving objects:  97% (1696/1748)   \rReceiving objects:  98% (1714/1748)   \rReceiving objects:  99% (1731/1748)   \rReceiving objects: 100% (1748/1748)   \rReceiving objects: 100% (1748/1748), 1.16 MiB | 9.57 MiB/s, done.\n",
            "Resolving deltas:   0% (0/1330)   \rResolving deltas:   2% (38/1330)   \rResolving deltas:   3% (41/1330)   \rResolving deltas:   4% (64/1330)   \rResolving deltas:  10% (140/1330)   \rResolving deltas:  11% (147/1330)   \rResolving deltas:  12% (161/1330)   \rResolving deltas:  17% (234/1330)   \rResolving deltas:  18% (247/1330)   \rResolving deltas:  19% (255/1330)   \rResolving deltas:  20% (266/1330)   \rResolving deltas:  21% (282/1330)   \rResolving deltas:  25% (342/1330)   \rResolving deltas:  26% (348/1330)   \rResolving deltas:  29% (391/1330)   \rResolving deltas:  30% (403/1330)   \rResolving deltas:  31% (413/1330)   \rResolving deltas:  32% (429/1330)   \rResolving deltas:  35% (471/1330)   \rResolving deltas:  37% (501/1330)   \rResolving deltas:  38% (513/1330)   \rResolving deltas:  40% (537/1330)   \rResolving deltas:  42% (560/1330)   \rResolving deltas:  44% (596/1330)   \rResolving deltas:  47% (627/1330)   \rResolving deltas:  48% (643/1330)   \rResolving deltas:  49% (656/1330)   \rResolving deltas:  51% (680/1330)   \rResolving deltas:  53% (718/1330)   \rResolving deltas:  54% (728/1330)   \rResolving deltas:  56% (745/1330)   \rResolving deltas:  59% (792/1330)   \rResolving deltas:  60% (798/1330)   \rResolving deltas:  61% (812/1330)   \rResolving deltas:  62% (829/1330)   \rResolving deltas:  63% (840/1330)   \rResolving deltas:  65% (867/1330)   \rResolving deltas:  66% (879/1330)   \rResolving deltas:  67% (900/1330)   \rResolving deltas:  68% (912/1330)   \rResolving deltas:  69% (919/1330)   \rResolving deltas:  71% (953/1330)   \rResolving deltas:  72% (968/1330)   \rResolving deltas:  76% (1015/1330)   \rResolving deltas:  77% (1025/1330)   \rResolving deltas:  78% (1039/1330)   \rResolving deltas:  81% (1082/1330)   \rResolving deltas:  82% (1095/1330)   \rResolving deltas:  83% (1111/1330)   \rResolving deltas:  84% (1119/1330)   \rResolving deltas:  85% (1136/1330)   \rResolving deltas:  86% (1153/1330)   \rResolving deltas:  87% (1158/1330)   \rResolving deltas:  88% (1175/1330)   \rResolving deltas:  89% (1186/1330)   \rResolving deltas:  90% (1204/1330)   \rResolving deltas:  92% (1230/1330)   \rResolving deltas:  95% (1264/1330)   \rResolving deltas:  96% (1283/1330)   \rResolving deltas:  97% (1297/1330)   \rResolving deltas:  98% (1304/1330)   \rResolving deltas:  99% (1320/1330)   \rResolving deltas: 100% (1330/1330)   \rResolving deltas: 100% (1330/1330), done.\n"
          ],
          "name": "stdout"
        }
      ]
    },
    {
      "cell_type": "code",
      "metadata": {
        "id": "wJWexnIuaXGo",
        "colab_type": "code",
        "colab": {
          "base_uri": "https://localhost:8080/",
          "height": 35
        },
        "outputId": "af9de5c5-57d2-41ac-dff5-bef6930d0371"
      },
      "source": [
        "#set the path to the where tfds is installed\n",
        "path = '/usr/local/lib/python3.6/dist-packages/tensorflow_datasets'\n",
        "shutil.copy('../content/Transformer_en_tam_2/__init__.py', os.path.join(path, 'translate/__init__.py'))\n",
        "shutil.copy('../content/Transformer_en_tam_2/en_tam_parallel_text.py', os.path.join(path, 'translate/en_tam_parallel_text.py'))\n",
        "shutil.copy('../content/Transformer_en_tam_2/en_tam_parallel_text_test.py', os.path.join(path, 'translate/en_tam_parallel_text_test.py'))\n",
        "shutil.copy('../content/Transformer_en_tam_2/en_tam_parallel_text.txt', os.path.join(path, 'url_checksums/en_tam_parallel_text.txt'))\n",
        "#shutil.copy('../content/transformers-with-2stagedecoders/scripts/configuration_colab.py', '../content/transformers-with-2stagedecoders/scripts/configuration.py')\n",
        "#shutil.copy('../content/Summarize_or_translate_using_transformers/scripts/train_temp_colab.py', '../content/Summarize_or_translate_using_transformers/scripts/train_temp.py')"
      ],
      "execution_count": 5,
      "outputs": [
        {
          "output_type": "execute_result",
          "data": {
            "application/vnd.google.colaboratory.intrinsic": {
              "type": "string"
            },
            "text/plain": [
              "'../content/transformers-with-2stagedecoders/scripts/configuration.py'"
            ]
          },
          "metadata": {
            "tags": []
          },
          "execution_count": 5
        }
      ]
    },
    {
      "cell_type": "code",
      "metadata": {
        "id": "Ez4YVLYn0PXf",
        "colab_type": "code",
        "colab": {
          "base_uri": "https://localhost:8080/",
          "height": 1000
        },
        "outputId": "deb80479-25e2-41bc-c979-76f4cbba022a"
      },
      "source": [
        "!python /content/Summarize_or_translate_using_transformers/inference_scripts/translate.py"
      ],
      "execution_count": 9,
      "outputs": [
        {
          "output_type": "stream",
          "text": [
            "2020-06-29 09:42:12.142241: I tensorflow/stream_executor/platform/default/dso_loader.cc:44] Successfully opened dynamic library libcudart.so.10.1\n",
            "/usr/local/lib/python3.6/dist-packages/sklearn/externals/joblib/__init__.py:15: FutureWarning: sklearn.externals.joblib is deprecated in 0.21 and will be removed in 0.23. Please import this functionality directly from joblib, which can be installed with: pip install joblib. If this warning is raised when loading pickled models, you may need to re-serialize those models with scikit-learn 0.21+.\n",
            "  warnings.warn(msg, category=FutureWarning)\n",
            "/usr/local/lib/python3.6/dist-packages/sklearn/base.py:318: UserWarning: Trying to unpickle estimator CountVectorizer from version 0.20.2 when using version 0.22.2.post1. This might lead to breaking code or invalid results. Use at your own risk.\n",
            "  UserWarning)\n",
            "/usr/local/lib/python3.6/dist-packages/sklearn/utils/deprecation.py:144: FutureWarning: The sklearn.svm.classes module is  deprecated in version 0.22 and will be removed in version 0.24. The corresponding classes / functions should instead be imported from sklearn.svm. Anything that cannot be imported from sklearn.svm is now part of the private API.\n",
            "  warnings.warn(message, FutureWarning)\n",
            "/usr/local/lib/python3.6/dist-packages/sklearn/base.py:318: UserWarning: Trying to unpickle estimator LinearSVC from version 0.20.2 when using version 0.22.2.post1. This might lead to breaking code or invalid results. Use at your own risk.\n",
            "  UserWarning)\n",
            "/usr/local/lib/python3.6/dist-packages/sklearn/utils/deprecation.py:144: FutureWarning: The sklearn.preprocessing.label module is  deprecated in version 0.22 and will be removed in version 0.24. The corresponding classes / functions should instead be imported from sklearn.preprocessing. Anything that cannot be imported from sklearn.preprocessing is now part of the private API.\n",
            "  warnings.warn(message, FutureWarning)\n",
            "/usr/local/lib/python3.6/dist-packages/sklearn/base.py:318: UserWarning: Trying to unpickle estimator LabelEncoder from version 0.20.2 when using version 0.22.2.post1. This might lead to breaking code or invalid results. Use at your own risk.\n",
            "  UserWarning)\n",
            "/usr/local/lib/python3.6/dist-packages/sklearn/base.py:318: UserWarning: Trying to unpickle estimator _SigmoidCalibration from version 0.20.2 when using version 0.22.2.post1. This might lead to breaking code or invalid results. Use at your own risk.\n",
            "  UserWarning)\n",
            "/usr/local/lib/python3.6/dist-packages/sklearn/base.py:318: UserWarning: Trying to unpickle estimator CalibratedClassifierCV from version 0.20.2 when using version 0.22.2.post1. This might lead to breaking code or invalid results. Use at your own risk.\n",
            "  UserWarning)\n",
            "2020-06-29 09:42:16.446691: I tensorflow/stream_executor/platform/default/dso_loader.cc:44] Successfully opened dynamic library libcuda.so.1\n",
            "2020-06-29 09:42:16.451142: E tensorflow/stream_executor/cuda/cuda_driver.cc:313] failed call to cuInit: CUDA_ERROR_NO_DEVICE: no CUDA-capable device is detected\n",
            "2020-06-29 09:42:16.451188: I tensorflow/stream_executor/cuda/cuda_diagnostics.cc:156] kernel driver does not appear to be running on this host (3ef73478469e): /proc/driver/nvidia/version does not exist\n",
            "GPU not available so Running in CPU\n",
            "2020-06-29 09:42:16.909737: I tensorflow/core/platform/profile_utils/cpu_utils.cc:102] CPU Frequency: 2300000000 Hz\n",
            "2020-06-29 09:42:16.910399: I tensorflow/compiler/xla/service/service.cc:168] XLA service 0x8673b80 initialized for platform Host (this does not guarantee that XLA will be used). Devices:\n",
            "2020-06-29 09:42:16.910442: I tensorflow/compiler/xla/service/service.cc:176]   StreamExecutor device (0): Host, Default Version\n",
            "INFO:tensorflow:Configuration used \n",
            " CLS_ID: 8294\n",
            "MASK_ID: 103\n",
            "PAD_ID: 0\n",
            "SEP_ID: 8295\n",
            "accumulate_gradients: true\n",
            "activation: relu\n",
            "add_bias: null\n",
            "add_pointer_generator: true\n",
            "beam_size: 4\n",
            "bert_score_model: bert-base-multilingual-cased\n",
            "best_ckpt_path: /content/drive/My Drive/best_checkpoints/en_tam_parallel_text_transformer/\n",
            "check_evaluation_pipeline: false\n",
            "check_model_capacity: false\n",
            "check_predictions_shape: false\n",
            "check_training_pipeline: false\n",
            "checkpoint_path: /content/drive/My Drive/checkpoints/en_tam_parallel_text_transformer/\n",
            "clear_log: false\n",
            "d_model: 256\n",
            "detokenize_samples: false\n",
            "dff: 1024\n",
            "display_model_summary: true\n",
            "draft_decoder_type: topktopp\n",
            "dropout_rate: 0.1\n",
            "early_stop: false\n",
            "enable_jit: true\n",
            "epochs: 4\n",
            "epsilon_ls: 0.1\n",
            "eval_after_steps: 5000\n",
            "gpu_memory_test: false\n",
            "grad_clipnorm: null\n",
            "gradient_accumulation_steps: 18\n",
            "infer_ckpt_path: null\n",
            "infer_csv_path: null\n",
            "init_loss_check: false\n",
            "init_tolerance: 0\n",
            "initial_weights: /content/drive/My Drive/initial_weights/en_tam_parallel_text_transformer/\n",
            "input_independent_baseline_check: false\n",
            "input_pretrained_model: distilroberta-base\n",
            "input_seq_length: 100\n",
            "input_seq_vocab_path: /content/drive/My Drive/best_checkpoints/en_tam_parallel_text/vocab_en\n",
            "input_vocab_size: 8249\n",
            "l2_norm: 0.0\n",
            "last_recorded_value: 0.5459\n",
            "learning_rate: null\n",
            "length_penalty: 0.8\n",
            "log_path: /content/drive/My Drive/created_files/en_tam_parallel_text_transformer/tensorflow.log\n",
            "metric_weights:\n",
            "    bert_f1_score: 0.8\n",
            "    task_score: 0.2\n",
            "min_train_loss: 1.0\n",
            "model: transformer\n",
            "monitor_metric: unified_metric\n",
            "num_heads: 4\n",
            "num_layers: 4\n",
            "num_of_decoders: 1\n",
            "num_parallel_calls: -1\n",
            "output_seq_vocab_path: /content/drive/My Drive/TFDS_vocab_files/en_tam_parallel_text/byte-level-bpe_ta_tokenizer.json\n",
            "output_sequence_write_path: /content/drive/My Drive/best_checkpoints/en_tam_parallel_text/vocab_ta\n",
            "print_config: true\n",
            "random_results_check: false\n",
            "refine_decoder_type: greedy\n",
            "run_init_eval: false\n",
            "run_tensorboard: true\n",
            "samples_to_test: 1\n",
            "samples_to_train: -1\n",
            "samples_to_validate: 126\n",
            "save_initial_weights: false\n",
            "serialized_tensor_path: C:\\Users\\Vinodhkumar\\Google Drive/saved_serialized_tensor_ta\n",
            "softmax_temperature: 1\n",
            "start_evaluate_when: 6.0\n",
            "steps_to_print_training_info: 100\n",
            "target_language: ta\n",
            "target_pretrained_model: distilbert-base-multilingual-cased\n",
            "target_seq_length: 100\n",
            "target_vocab_size: 8296\n",
            "task: translate\n",
            "tensorboard_log: /content/drive/My Drive/created_files/en_tam_parallel_text_transformer/tensorboard_logs/\n",
            "test_script: false\n",
            "tfds_data_dir: /content/drive/My Drive/Tensorflow_datasets/en_tam_parallel_text_dataset\n",
            "tfds_data_version: null\n",
            "tfds_name: en_tam_parallel_text\n",
            "tokenizer_api: tfds\n",
            "tokens_per_batch: 4050\n",
            "tolerance_threshold: 7\n",
            "top_k: 0\n",
            "top_p: 1\n",
            "train_batch_size: 2\n",
            "train_csv_path: null\n",
            "unit_test_dataset_batch_size: 1\n",
            "use_custom_tokenizer: null\n",
            "use_tfds: true\n",
            "validation_batch_size: 32\n",
            "write_batch1_predictions: true\n",
            "\n",
            "Enter the sentence to be translated-> ki\n",
            "\n",
            "\n",
            "\n",
            "\n",
            "\n",
            "\n",
            "\n",
            "\n",
            "\n",
            "\n",
            "\n",
            "\n",
            "the summarized output is --> கி\n",
            "Time to process --> 12 seconds\n"
          ],
          "name": "stdout"
        }
      ]
    },
    {
      "cell_type": "code",
      "metadata": {
        "id": "KsyUpOZ73WPp",
        "colab_type": "code",
        "colab": {}
      },
      "source": [
        "  "
      ],
      "execution_count": 7,
      "outputs": []
    }
  ]
}